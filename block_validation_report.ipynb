{
  "nbformat": 4,
  "nbformat_minor": 0,
  "metadata": {
    "colab": {
      "provenance": []
    },
    "kernelspec": {
      "name": "python3",
      "display_name": "Python 3"
    },
    "language_info": {
      "name": "python"
    }
  },
  "cells": [
    {
      "cell_type": "code",
      "execution_count": 1,
      "metadata": {
        "colab": {
          "base_uri": "https://localhost:8080/"
        },
        "id": "dn-6Uz0WpePf",
        "outputId": "2777c0ca-356c-4f66-f43d-aacadfce2476"
      },
      "outputs": [
        {
          "output_type": "stream",
          "name": "stdout",
          "text": [
            "Sample file created at: sample_data.txt\n",
            "Total blocks: 77\n",
            "Corrupted block indices: [13, 5, 11]\n",
            "    Block Index  Is Valid\n",
            "0             0      True\n",
            "1             1      True\n",
            "2             2      True\n",
            "3             3      True\n",
            "4             4      True\n",
            "..          ...       ...\n",
            "72           72      True\n",
            "73           73      True\n",
            "74           74      True\n",
            "75           75      True\n",
            "76           76      True\n",
            "\n",
            "[77 rows x 2 columns]\n"
          ]
        }
      ],
      "source": [
        "import hashlib\n",
        "import random\n",
        "import os\n",
        "\n",
        "# STEP 1: Create a sample file\n",
        "sample_text = \"This is a sample file containing multiple lines.\\n\" * 100\n",
        "file_path = \"sample_data.txt\"\n",
        "\n",
        "with open(file_path, \"w\") as f:\n",
        "    f.write(sample_text)\n",
        "\n",
        "print(f\"Sample file created at: {file_path}\")\n",
        "\n",
        "# STEP 2: Split the file into fixed-size blocks\n",
        "def split_file_into_blocks(filepath, block_size=64):\n",
        "    with open(filepath, 'rb') as f:\n",
        "        while True:\n",
        "            block = f.read(block_size)\n",
        "            if not block:\n",
        "                break\n",
        "            yield block\n",
        "\n",
        "# STEP 3: Generate SHA-256 checksum for each block\n",
        "def compute_checksum(block):\n",
        "    return hashlib.sha256(block).hexdigest()\n",
        "\n",
        "original_blocks = list(split_file_into_blocks(file_path))\n",
        "original_checksums = [compute_checksum(block) for block in original_blocks]\n",
        "\n",
        "print(f\"Total blocks: {len(original_blocks)}\")\n",
        "\n",
        "# STEP 4: Simulate corruption in 3 random blocks\n",
        "corrupted_blocks = original_blocks.copy()\n",
        "corruption_indices = random.sample(range(len(corrupted_blocks)), k=3)\n",
        "\n",
        "for idx in corruption_indices:\n",
        "    corrupted_blocks[idx] = b\"CORRUPTED_BLOCK_DATA\"\n",
        "\n",
        "print(f\"Corrupted block indices: {corruption_indices}\")\n",
        "\n",
        "# STEP 5: Validate integrity by comparing checksums\n",
        "def validate_blocks(blocks, original_checksums):\n",
        "    report = []\n",
        "    for i, block in enumerate(blocks):\n",
        "        current_checksum = compute_checksum(block)\n",
        "        is_valid = current_checksum == original_checksums[i]\n",
        "        report.append((i, is_valid))\n",
        "    return report\n",
        "\n",
        "validation_report = validate_blocks(corrupted_blocks, original_checksums)\n",
        "\n",
        "# STEP 6: Show results in a table\n",
        "import pandas as pd\n",
        "\n",
        "df = pd.DataFrame(validation_report, columns=[\"Block Index\", \"Is Valid\"])\n",
        "print(df)\n"
      ]
    }
  ]
}